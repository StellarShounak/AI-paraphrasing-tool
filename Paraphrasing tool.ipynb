{
 "cells": [
  {
   "cell_type": "code",
   "execution_count": 1,
   "id": "b01f7aae",
   "metadata": {},
   "outputs": [
    {
     "name": "stdout",
     "output_type": "stream",
     "text": [
      "Defaulting to user installation because normal site-packages is not writeable\n",
      "Collecting sentence-splitter\n",
      "  Downloading sentence_splitter-1.4-py2.py3-none-any.whl (44 kB)\n",
      "                                              0.0/45.0 kB ? eta -:--:--\n",
      "     ------------------------------------     41.0/45.0 kB 1.9 MB/s eta 0:00:01\n",
      "     -------------------------------------- 45.0/45.0 kB 445.6 kB/s eta 0:00:00\n",
      "Requirement already satisfied: regex>=2017.12.12 in c:\\users\\hp\\appdata\\roaming\\python\\python311\\site-packages (from sentence-splitter) (2023.6.3)\n",
      "Installing collected packages: sentence-splitter\n",
      "Successfully installed sentence-splitter-1.4\n"
     ]
    },
    {
     "name": "stderr",
     "output_type": "stream",
     "text": [
      "\n",
      "[notice] A new release of pip is available: 23.1.2 -> 23.2\n",
      "[notice] To update, run: python.exe -m pip install --upgrade pip\n"
     ]
    }
   ],
   "source": [
    "! pip install sentence-splitter"
   ]
  },
  {
   "cell_type": "code",
   "execution_count": 2,
   "id": "daabda80",
   "metadata": {},
   "outputs": [
    {
     "name": "stdout",
     "output_type": "stream",
     "text": [
      "Defaulting to user installation because normal site-packages is not writeable\n",
      "Collecting transformers\n",
      "  Downloading transformers-4.31.0-py3-none-any.whl (7.4 MB)\n",
      "                                              0.0/7.4 MB ? eta -:--:--\n",
      "                                              0.1/7.4 MB 1.3 MB/s eta 0:00:06\n",
      "     -                                        0.2/7.4 MB 2.3 MB/s eta 0:00:04\n",
      "     --                                       0.4/7.4 MB 2.8 MB/s eta 0:00:03\n",
      "     ----                                     0.8/7.4 MB 4.5 MB/s eta 0:00:02\n",
      "     -------                                  1.4/7.4 MB 6.3 MB/s eta 0:00:01\n",
      "     ----------                               1.9/7.4 MB 7.1 MB/s eta 0:00:01\n",
      "     ------------                             2.4/7.4 MB 7.6 MB/s eta 0:00:01\n",
      "     --------------                           2.8/7.4 MB 8.0 MB/s eta 0:00:01\n",
      "     --------------                           2.8/7.4 MB 8.0 MB/s eta 0:00:01\n",
      "     --------------                           2.8/7.4 MB 8.0 MB/s eta 0:00:01\n",
      "     ------------------                       3.4/7.4 MB 7.3 MB/s eta 0:00:01\n",
      "     ------------------------                 4.5/7.4 MB 8.7 MB/s eta 0:00:01\n",
      "     --------------------------               5.0/7.4 MB 8.8 MB/s eta 0:00:01\n",
      "     -----------------------------            5.4/7.4 MB 9.1 MB/s eta 0:00:01\n",
      "     --------------------------------         5.9/7.4 MB 9.2 MB/s eta 0:00:01\n",
      "     ----------------------------------       6.4/7.4 MB 9.3 MB/s eta 0:00:01\n",
      "     -------------------------------------    6.9/7.4 MB 9.6 MB/s eta 0:00:01\n",
      "     ---------------------------------------  7.4/7.4 MB 9.6 MB/s eta 0:00:01\n",
      "     ---------------------------------------  7.4/7.4 MB 9.6 MB/s eta 0:00:01\n",
      "     ---------------------------------------  7.4/7.4 MB 9.6 MB/s eta 0:00:01\n",
      "     ---------------------------------------  7.4/7.4 MB 9.6 MB/s eta 0:00:01\n",
      "     ---------------------------------------- 7.4/7.4 MB 7.7 MB/s eta 0:00:00\n",
      "Requirement already satisfied: filelock in c:\\users\\hp\\appdata\\roaming\\python\\python311\\site-packages (from transformers) (3.12.2)\n",
      "Collecting huggingface-hub<1.0,>=0.14.1 (from transformers)\n",
      "  Downloading huggingface_hub-0.16.4-py3-none-any.whl (268 kB)\n",
      "                                              0.0/268.8 kB ? eta -:--:--\n",
      "     ------------------------------------  266.2/268.8 kB 17.1 MB/s eta 0:00:01\n",
      "     -------------------------------------- 268.8/268.8 kB 4.2 MB/s eta 0:00:00\n",
      "Requirement already satisfied: numpy>=1.17 in c:\\users\\hp\\appdata\\roaming\\python\\python311\\site-packages (from transformers) (1.23.5)\n",
      "Requirement already satisfied: packaging>=20.0 in c:\\users\\hp\\appdata\\roaming\\python\\python311\\site-packages (from transformers) (23.1)\n",
      "Requirement already satisfied: pyyaml>=5.1 in c:\\users\\hp\\appdata\\roaming\\python\\python311\\site-packages (from transformers) (6.0)\n",
      "Requirement already satisfied: regex!=2019.12.17 in c:\\users\\hp\\appdata\\roaming\\python\\python311\\site-packages (from transformers) (2023.6.3)\n",
      "Requirement already satisfied: requests in c:\\users\\hp\\appdata\\roaming\\python\\python311\\site-packages (from transformers) (2.31.0)\n",
      "Collecting tokenizers!=0.11.3,<0.14,>=0.11.1 (from transformers)\n",
      "  Downloading tokenizers-0.13.3-cp311-cp311-win_amd64.whl (3.5 MB)\n",
      "                                              0.0/3.5 MB ? eta -:--:--\n",
      "     --------                                 0.7/3.5 MB 14.6 MB/s eta 0:00:01\n",
      "     -------------                            1.2/3.5 MB 14.7 MB/s eta 0:00:01\n",
      "     -------------------                      1.6/3.5 MB 13.1 MB/s eta 0:00:01\n",
      "     ------------------------                 2.1/3.5 MB 12.4 MB/s eta 0:00:01\n",
      "     -----------------------------            2.6/3.5 MB 12.8 MB/s eta 0:00:01\n",
      "     -----------------------------------      3.1/3.5 MB 12.3 MB/s eta 0:00:01\n",
      "     ---------------------------------------  3.5/3.5 MB 12.3 MB/s eta 0:00:01\n",
      "     ---------------------------------------  3.5/3.5 MB 12.3 MB/s eta 0:00:01\n",
      "     ---------------------------------------  3.5/3.5 MB 12.3 MB/s eta 0:00:01\n",
      "     ---------------------------------------  3.5/3.5 MB 12.3 MB/s eta 0:00:01\n",
      "     ---------------------------------------  3.5/3.5 MB 12.3 MB/s eta 0:00:01\n",
      "     ---------------------------------------  3.5/3.5 MB 12.3 MB/s eta 0:00:01\n",
      "     ---------------------------------------  3.5/3.5 MB 12.3 MB/s eta 0:00:01\n",
      "     ---------------------------------------  3.5/3.5 MB 12.3 MB/s eta 0:00:01\n",
      "     ---------------------------------------  3.5/3.5 MB 12.3 MB/s eta 0:00:01\n",
      "     ---------------------------------------  3.5/3.5 MB 12.3 MB/s eta 0:00:01\n",
      "     ---------------------------------------  3.5/3.5 MB 12.3 MB/s eta 0:00:01\n",
      "     ---------------------------------------- 3.5/3.5 MB 4.8 MB/s eta 0:00:00\n",
      "Collecting safetensors>=0.3.1 (from transformers)\n",
      "  Downloading safetensors-0.3.1-cp311-cp311-win_amd64.whl (263 kB)\n",
      "                                              0.0/263.7 kB ? eta -:--:--\n",
      "     -----------------------------------   256.0/263.7 kB 16.4 MB/s eta 0:00:01\n",
      "     -------------------------------------- 263.7/263.7 kB 4.1 MB/s eta 0:00:00\n",
      "Requirement already satisfied: tqdm>=4.27 in c:\\users\\hp\\appdata\\roaming\\python\\python311\\site-packages (from transformers) (4.65.0)\n",
      "Collecting fsspec (from huggingface-hub<1.0,>=0.14.1->transformers)\n",
      "  Downloading fsspec-2023.6.0-py3-none-any.whl (163 kB)\n",
      "                                              0.0/163.8 kB ? eta -:--:--\n",
      "     -------------------------------------    153.6/163.8 kB ? eta -:--:--\n",
      "     -------------------------------------- 163.8/163.8 kB 3.3 MB/s eta 0:00:00\n",
      "Requirement already satisfied: typing-extensions>=3.7.4.3 in c:\\users\\hp\\appdata\\roaming\\python\\python311\\site-packages (from huggingface-hub<1.0,>=0.14.1->transformers) (4.6.3)\n",
      "Requirement already satisfied: colorama in c:\\users\\hp\\appdata\\roaming\\python\\python311\\site-packages (from tqdm>=4.27->transformers) (0.4.6)\n",
      "Requirement already satisfied: charset-normalizer<4,>=2 in c:\\users\\hp\\appdata\\roaming\\python\\python311\\site-packages (from requests->transformers) (3.1.0)\n",
      "Requirement already satisfied: idna<4,>=2.5 in c:\\users\\hp\\appdata\\roaming\\python\\python311\\site-packages (from requests->transformers) (3.4)\n",
      "Requirement already satisfied: urllib3<3,>=1.21.1 in c:\\users\\hp\\appdata\\roaming\\python\\python311\\site-packages (from requests->transformers) (1.26.16)\n",
      "Requirement already satisfied: certifi>=2017.4.17 in c:\\users\\hp\\appdata\\roaming\\python\\python311\\site-packages (from requests->transformers) (2023.5.7)\n",
      "Installing collected packages: tokenizers, safetensors, fsspec, huggingface-hub, transformers\n",
      "Successfully installed fsspec-2023.6.0 huggingface-hub-0.16.4 safetensors-0.3.1 tokenizers-0.13.3 transformers-4.31.0\n"
     ]
    },
    {
     "name": "stderr",
     "output_type": "stream",
     "text": [
      "\n",
      "[notice] A new release of pip is available: 23.1.2 -> 23.2\n",
      "[notice] To update, run: python.exe -m pip install --upgrade pip\n"
     ]
    }
   ],
   "source": [
    "\n",
    "! pip install transformers\n",
    "     "
   ]
  },
  {
   "cell_type": "code",
   "execution_count": 3,
   "id": "7a12ce8c",
   "metadata": {},
   "outputs": [
    {
     "name": "stdout",
     "output_type": "stream",
     "text": [
      "Defaulting to user installation because normal site-packages is not writeable\n",
      "Collecting SentencePiece\n",
      "  Downloading sentencepiece-0.1.99-cp311-cp311-win_amd64.whl (977 kB)\n",
      "                                              0.0/977.5 kB ? eta -:--:--\n",
      "     --                                      61.4/977.5 kB 1.7 MB/s eta 0:00:01\n",
      "     --------                               225.3/977.5 kB 2.8 MB/s eta 0:00:01\n",
      "     ---------------                        389.1/977.5 kB 3.0 MB/s eta 0:00:01\n",
      "     -------------------------              665.6/977.5 kB 3.8 MB/s eta 0:00:01\n",
      "     -------------------------------------  972.8/977.5 kB 4.7 MB/s eta 0:00:01\n",
      "     -------------------------------------  972.8/977.5 kB 4.7 MB/s eta 0:00:01\n",
      "     -------------------------------------- 977.5/977.5 kB 3.6 MB/s eta 0:00:00\n",
      "Installing collected packages: SentencePiece\n",
      "Successfully installed SentencePiece-0.1.99\n"
     ]
    },
    {
     "name": "stderr",
     "output_type": "stream",
     "text": [
      "\n",
      "[notice] A new release of pip is available: 23.1.2 -> 23.2\n",
      "[notice] To update, run: python.exe -m pip install --upgrade pip\n"
     ]
    }
   ],
   "source": [
    "! pip install SentencePiece"
   ]
  },
  {
   "cell_type": "code",
   "execution_count": 4,
   "id": "94632919",
   "metadata": {},
   "outputs": [
    {
     "data": {
      "application/vnd.jupyter.widget-view+json": {
       "model_id": "41230ae0669b4939af10e20315b4230b",
       "version_major": 2,
       "version_minor": 0
      },
      "text/plain": [
       "Downloading (…)ve/main/spiece.model:   0%|          | 0.00/1.91M [00:00<?, ?B/s]"
      ]
     },
     "metadata": {},
     "output_type": "display_data"
    },
    {
     "name": "stderr",
     "output_type": "stream",
     "text": [
      "C:\\Users\\hp\\AppData\\Roaming\\Python\\Python311\\site-packages\\huggingface_hub\\file_download.py:133: UserWarning: `huggingface_hub` cache-system uses symlinks by default to efficiently store duplicated files but your machine does not support them in C:\\Users\\hp\\.cache\\huggingface\\hub. Caching files will still work but in a degraded version that might require more space on your disk. This warning can be disabled by setting the `HF_HUB_DISABLE_SYMLINKS_WARNING` environment variable. For more details, see https://huggingface.co/docs/huggingface_hub/how-to-cache#limitations.\n",
      "To support symlinks on Windows, you either need to activate Developer Mode or to run Python as an administrator. In order to see activate developer mode, see this article: https://docs.microsoft.com/en-us/windows/apps/get-started/enable-your-device-for-development\n",
      "  warnings.warn(message)\n"
     ]
    },
    {
     "data": {
      "application/vnd.jupyter.widget-view+json": {
       "model_id": "cdcbf97e6a054d07b7a0dcd952ffc648",
       "version_major": 2,
       "version_minor": 0
      },
      "text/plain": [
       "Downloading (…)cial_tokens_map.json:   0%|          | 0.00/65.0 [00:00<?, ?B/s]"
      ]
     },
     "metadata": {},
     "output_type": "display_data"
    },
    {
     "data": {
      "application/vnd.jupyter.widget-view+json": {
       "model_id": "f57b5ff6e72d4dbdbc0b471cd34619b7",
       "version_major": 2,
       "version_minor": 0
      },
      "text/plain": [
       "Downloading (…)okenizer_config.json:   0%|          | 0.00/86.0 [00:00<?, ?B/s]"
      ]
     },
     "metadata": {},
     "output_type": "display_data"
    },
    {
     "data": {
      "application/vnd.jupyter.widget-view+json": {
       "model_id": "8b3950a2c311482bb9981c4e5f133f85",
       "version_major": 2,
       "version_minor": 0
      },
      "text/plain": [
       "Downloading (…)lve/main/config.json:   0%|          | 0.00/1.14k [00:00<?, ?B/s]"
      ]
     },
     "metadata": {},
     "output_type": "display_data"
    },
    {
     "data": {
      "application/vnd.jupyter.widget-view+json": {
       "model_id": "b05c6c6f93de41bb9a266699e42e3697",
       "version_major": 2,
       "version_minor": 0
      },
      "text/plain": [
       "Downloading pytorch_model.bin:   0%|          | 0.00/2.28G [00:00<?, ?B/s]"
      ]
     },
     "metadata": {},
     "output_type": "display_data"
    },
    {
     "name": "stderr",
     "output_type": "stream",
     "text": [
      "Some weights of PegasusForConditionalGeneration were not initialized from the model checkpoint at tuner007/pegasus_paraphrase and are newly initialized: ['model.encoder.embed_positions.weight', 'model.decoder.embed_positions.weight']\n",
      "You should probably TRAIN this model on a down-stream task to be able to use it for predictions and inference.\n"
     ]
    }
   ],
   "source": [
    "import torch\n",
    "from transformers import PegasusForConditionalGeneration, PegasusTokenizer\n",
    "\n",
    "model_name = 'tuner007/pegasus_paraphrase'\n",
    "torch_device = 'cuda' if torch.cuda.is_available() else 'cpu'\n",
    "tokenizer = PegasusTokenizer.from_pretrained(model_name)\n",
    "model = PegasusForConditionalGeneration.from_pretrained(model_name).to(torch_device)\n",
    "\n",
    "def get_response(input_text,num_return_sequences):\n",
    "  batch = tokenizer.prepare_seq2seq_batch([input_text],truncation=True,padding='longest',max_length=60, return_tensors=\"pt\").to(torch_device)\n",
    "  translated = model.generate(**batch,max_length=60,num_beams=10, num_return_sequences=num_return_sequences, temperature=1.5)\n",
    "  tgt_text = tokenizer.batch_decode(translated, skip_special_tokens=True)\n",
    "  return tgt_text"
   ]
  },
  {
   "cell_type": "code",
   "execution_count": 21,
   "id": "6d10bb7e",
   "metadata": {},
   "outputs": [
    {
     "data": {
      "text/plain": [
       "['One gets far more than he seeks in a walk with nature.',\n",
       " 'One gets far more than he wants in a walk with nature.',\n",
       " 'One gets more than he seeks in every walk with nature.',\n",
       " 'One gets far more than he seeks when walking with nature.',\n",
       " 'One gets far more than he seeks in nature walks.']"
      ]
     },
     "execution_count": 21,
     "metadata": {},
     "output_type": "execute_result"
    }
   ],
   "source": [
    "text = \"In every walk with nature one receives far more than he seeks.\"\n",
    "     \n",
    "get_response(text, 5)"
   ]
  },
  {
   "cell_type": "code",
   "execution_count": 22,
   "id": "b62a6942",
   "metadata": {},
   "outputs": [
    {
     "data": {
      "text/plain": [
       "['One gets far more than he seeks in a walk with nature.']"
      ]
     },
     "execution_count": 22,
     "metadata": {},
     "output_type": "execute_result"
    }
   ],
   "source": [
    "get_response(text, 1)\n",
    "     "
   ]
  },
  {
   "cell_type": "code",
   "execution_count": 23,
   "id": "e471fb3c",
   "metadata": {},
   "outputs": [
    {
     "name": "stdout",
     "output_type": "stream",
     "text": [
      "In every walk with nature, one receives far more than he seeks is a famous quote by John Muir, the renowned naturalist, and conservationist. This profound statement captures the essence of the deep connection between humans and the natural world.\n"
     ]
    }
   ],
   "source": [
    "\n",
    "# Paragraph of text\n",
    "context = \"In every walk with nature, one receives far more than he seeks is a famous quote by John Muir, the renowned naturalist, and conservationist. This profound statement captures the essence of the deep connection between humans and the natural world.\"\n",
    "print(context)"
   ]
  },
  {
   "cell_type": "code",
   "execution_count": 24,
   "id": "82b2d08b",
   "metadata": {},
   "outputs": [
    {
     "data": {
      "text/plain": [
       "['In every walk with nature, one receives far more than he seeks is a famous quote by John Muir, the renowned naturalist, and conservationist.',\n",
       " 'This profound statement captures the essence of the deep connection between humans and the natural world.']"
      ]
     },
     "execution_count": 24,
     "metadata": {},
     "output_type": "execute_result"
    }
   ],
   "source": [
    "# Takes the input paragraph and splits it into a list of sentences\n",
    "from sentence_splitter import SentenceSplitter, split_text_into_sentences\n",
    "\n",
    "splitter = SentenceSplitter(language='en')\n",
    "\n",
    "sentence_list = splitter.split(context)\n",
    "sentence_list\n",
    "     "
   ]
  },
  {
   "cell_type": "code",
   "execution_count": 25,
   "id": "24e1bd66",
   "metadata": {},
   "outputs": [],
   "source": [
    "\n",
    "# Do a for loop to iterate through the list of sentences and paraphrase each sentence in the iteration\n",
    "paraphrase = []\n",
    "\n",
    "for i in sentence_list:\n",
    "  a = get_response(i,1)\n",
    "  paraphrase.append(a)"
   ]
  },
  {
   "cell_type": "code",
   "execution_count": 26,
   "id": "4dff3835",
   "metadata": {},
   "outputs": [
    {
     "data": {
      "text/plain": [
       "[['Every time one walks with nature, he gets a famous quote from John Muir, the renowned naturalist.'],\n",
       " ['The deep connection between humans and the natural world is captured in this statement.']]"
      ]
     },
     "execution_count": 26,
     "metadata": {},
     "output_type": "execute_result"
    }
   ],
   "source": [
    "paraphrase"
   ]
  },
  {
   "cell_type": "code",
   "execution_count": 27,
   "id": "7d2d31c5",
   "metadata": {},
   "outputs": [],
   "source": [
    "paraphrase2 = [' '.join(x) for x in paraphrase]"
   ]
  },
  {
   "cell_type": "code",
   "execution_count": 28,
   "id": "65feed8a",
   "metadata": {},
   "outputs": [
    {
     "data": {
      "text/plain": [
       "[['Every time one walks with nature, he gets a famous quote from John Muir, the renowned naturalist.'],\n",
       " ['The deep connection between humans and the natural world is captured in this statement.']]"
      ]
     },
     "execution_count": 28,
     "metadata": {},
     "output_type": "execute_result"
    }
   ],
   "source": [
    "paraphrase"
   ]
  },
  {
   "cell_type": "code",
   "execution_count": 29,
   "id": "bd419a8b",
   "metadata": {},
   "outputs": [
    {
     "data": {
      "text/plain": [
       "['Every time one walks with nature, he gets a famous quote from John Muir, the renowned naturalist.',\n",
       " 'The deep connection between humans and the natural world is captured in this statement.']"
      ]
     },
     "execution_count": 29,
     "metadata": {},
     "output_type": "execute_result"
    }
   ],
   "source": [
    "paraphrase2"
   ]
  },
  {
   "cell_type": "code",
   "execution_count": 30,
   "id": "581a652d",
   "metadata": {},
   "outputs": [
    {
     "data": {
      "text/plain": [
       "'Every time one walks with nature, he gets a famous quote from John Muir, the renowned naturalist. The deep connection between humans and the natural world is captured in this statement.'"
      ]
     },
     "execution_count": 30,
     "metadata": {},
     "output_type": "execute_result"
    }
   ],
   "source": [
    "\n",
    "# Combines the above list into a paragraph\n",
    "paraphrase3 = [' '.join(x for x in paraphrase2) ]\n",
    "paraphrased_text = str(paraphrase3).strip('[]').strip(\"'\")\n",
    "paraphrased_text\n",
    "     "
   ]
  },
  {
   "cell_type": "code",
   "execution_count": 31,
   "id": "d0c5416d",
   "metadata": {},
   "outputs": [
    {
     "name": "stdout",
     "output_type": "stream",
     "text": [
      "In every walk with nature, one receives far more than he seeks is a famous quote by John Muir, the renowned naturalist, and conservationist. This profound statement captures the essence of the deep connection between humans and the natural world.\n",
      "Every time one walks with nature, he gets a famous quote from John Muir, the renowned naturalist. The deep connection between humans and the natural world is captured in this statement.\n"
     ]
    }
   ],
   "source": [
    "print(context)\n",
    "print(paraphrased_text)"
   ]
  },
  {
   "cell_type": "code",
   "execution_count": null,
   "id": "6dc22670",
   "metadata": {},
   "outputs": [],
   "source": []
  },
  {
   "cell_type": "code",
   "execution_count": null,
   "id": "f1f79088",
   "metadata": {},
   "outputs": [],
   "source": []
  }
 ],
 "metadata": {
  "kernelspec": {
   "display_name": "Python 3 (ipykernel)",
   "language": "python",
   "name": "python3"
  },
  "language_info": {
   "codemirror_mode": {
    "name": "ipython",
    "version": 3
   },
   "file_extension": ".py",
   "mimetype": "text/x-python",
   "name": "python",
   "nbconvert_exporter": "python",
   "pygments_lexer": "ipython3",
   "version": "3.11.4"
  }
 },
 "nbformat": 4,
 "nbformat_minor": 5
}
